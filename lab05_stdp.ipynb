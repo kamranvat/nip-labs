{
 "cells": [
  {
   "cell_type": "markdown",
   "id": "383086d5",
   "metadata": {},
   "source": [
    "# Lab05: Spike‑Timing‑Dependent Plasticity (STDP)\n",
    "Welcome to the hands‑on lab for exploring STDP!  \n",
    "In this notebook you will:\n",
    "1. Implement the Song–Abbott–Miller leaky integrate‑and‑fire (LIF) neuron model with pair‑based STDP.  \n",
    "2. Generate several kinds of presynaptic spike trains.  \n",
    "3. Run three guided experiments and interpret the results."
   ]
  },
  {
   "cell_type": "markdown",
   "id": "a6da10bc",
   "metadata": {},
   "source": [
    "## Neuron and synapse model\n",
    "We follow the parameters reported by **Song et al. 2000** for their current‑based LIF neuron [τ_m = 20 ms, V_rest = −70 mV, V_th = −54 mV, V_reset = −60 mV, τ_ex = τ_in = 5 ms, g_max = 0.015 (dimensionless)].  Weights are bounded in **[0, g_max]** and updated with the classical pair‑based STDP rule:\n",
    "$$\\Delta g = \\begin{cases}\n",
    "A_+\\,e^{\\Delta t/\\tau_+} & \\Delta t<0\\\\[2pt]\n",
    "-A_-\\,e^{-\\Delta t/\\tau_-} & \\Delta t\\ge0\\end{cases}$$\n",
    "with $\\tau_+=\\tau_-\\;{=}$ 20 ms, $A_+=0.005\\,g_{\\max}$ and $A_-/A_+=1.05$."
   ]
  },
  {
   "cell_type": "markdown",
   "id": "3bfe9376",
   "metadata": {},
   "source": [
    "## Learning goals\n",
    "After completing the notebook you should be able to:\n",
    "* Explain how the relative timing of pre‑ and postsynaptic spikes drives synaptic potentiation or depression.\n",
    "* Show that STDP favors inputs with shorter latencies.\n",
    "* Describe how STDP can stabilize a neuron’s output rate across a wide range of input rates.\n",
    "* Discuss whether STDP can learn rate codes, too."
   ]
  },
  {
   "cell_type": "code",
   "execution_count": 1,
   "id": "fb540f31",
   "metadata": {},
   "outputs": [],
   "source": [
    "import numpy as np\n",
    "import matplotlib.pyplot as plt\n",
    "%matplotlib inline\n",
    "\n",
    "# For reproducibility\n",
    "rng = np.random.default_rng(seed=42)\n",
    "\n",
    "# plot your spike data\n",
    "def plot_spikes(spike_trains, T):\n",
    "    \"\"\"\n",
    "    Quick raster plot.\n",
    "\n",
    "    Parameters\n",
    "    ----------\n",
    "    spike_trains : array-like of 1-D numpy arrays\n",
    "        spike_trains[i] contains the spike times (s) for neuron i.\n",
    "    T : float\n",
    "        Maximum time for x-axis (s).\n",
    "    \"\"\"\n",
    "    plt.eventplot(spike_trains, linelengths=0.3, color='k')\n",
    "    plt.xlim(0, T)\n",
    "    plt.ylim(-0.5, len(spike_trains) - 0.5)\n",
    "    plt.xlabel('time (s)')\n",
    "    plt.ylabel('neuron index')\n",
    "    plt.show()"
   ]
  },
  {
   "cell_type": "markdown",
   "id": "fb6a781e-aaa8-40aa-94b7-64495e39d5df",
   "metadata": {},
   "source": [
    "## Task 1:\n",
    "\n",
    "Implement the neuron model response and STDP update for the simple latency spike input below. Cycle through the input multiple times to see how STDP adapts the weights.\n",
    "\n",
    "You can safely ignore inhibitory components of the model here."
   ]
  },
  {
   "cell_type": "code",
   "execution_count": 39,
   "id": "b8e46ecc-1424-4357-a420-e11e848023ea",
   "metadata": {},
   "outputs": [
    {
     "name": "stdout",
     "output_type": "stream",
     "text": [
      "2\n"
     ]
    },
    {
     "ename": "ValueError",
     "evalue": "positions must be one-dimensional",
     "output_type": "error",
     "traceback": [
      "\u001b[1;31m---------------------------------------------------------------------------\u001b[0m",
      "\u001b[1;31mValueError\u001b[0m                                Traceback (most recent call last)",
      "\u001b[1;32m~\\AppData\\Local\\Temp\\ipykernel_17764\\2053107499.py\u001b[0m in \u001b[0;36m<module>\u001b[1;34m\u001b[0m\n\u001b[0;32m     97\u001b[0m \u001b[1;33m\u001b[0m\u001b[0m\n\u001b[0;32m     98\u001b[0m \u001b[0mprint\u001b[0m\u001b[1;33m(\u001b[0m\u001b[0mlen\u001b[0m\u001b[1;33m(\u001b[0m\u001b[0mpost_spike_history\u001b[0m\u001b[1;33m[\u001b[0m\u001b[1;36m2\u001b[0m\u001b[1;33m]\u001b[0m\u001b[1;33m)\u001b[0m\u001b[1;33m)\u001b[0m\u001b[1;33m\u001b[0m\u001b[1;33m\u001b[0m\u001b[0m\n\u001b[1;32m---> 99\u001b[1;33m \u001b[0mplot_spikes\u001b[0m\u001b[1;33m(\u001b[0m\u001b[0mpost_spike_history\u001b[0m\u001b[1;33m,\u001b[0m \u001b[0mT\u001b[0m\u001b[1;33m)\u001b[0m\u001b[1;33m\u001b[0m\u001b[1;33m\u001b[0m\u001b[0m\n\u001b[0m",
      "\u001b[1;32m~\\AppData\\Local\\Temp\\ipykernel_17764\\4115269703.py\u001b[0m in \u001b[0;36mplot_spikes\u001b[1;34m(spike_trains, T)\u001b[0m\n\u001b[0;32m     18\u001b[0m         \u001b[0mMaximum\u001b[0m \u001b[0mtime\u001b[0m \u001b[1;32mfor\u001b[0m \u001b[0mx\u001b[0m\u001b[1;33m-\u001b[0m\u001b[0maxis\u001b[0m \u001b[1;33m(\u001b[0m\u001b[0ms\u001b[0m\u001b[1;33m)\u001b[0m\u001b[1;33m.\u001b[0m\u001b[1;33m\u001b[0m\u001b[1;33m\u001b[0m\u001b[0m\n\u001b[0;32m     19\u001b[0m     \"\"\"\n\u001b[1;32m---> 20\u001b[1;33m     \u001b[0mplt\u001b[0m\u001b[1;33m.\u001b[0m\u001b[0meventplot\u001b[0m\u001b[1;33m(\u001b[0m\u001b[0mspike_trains\u001b[0m\u001b[1;33m,\u001b[0m \u001b[0mlinelengths\u001b[0m\u001b[1;33m=\u001b[0m\u001b[1;36m0.3\u001b[0m\u001b[1;33m,\u001b[0m \u001b[0mcolor\u001b[0m\u001b[1;33m=\u001b[0m\u001b[1;34m'k'\u001b[0m\u001b[1;33m)\u001b[0m\u001b[1;33m\u001b[0m\u001b[1;33m\u001b[0m\u001b[0m\n\u001b[0m\u001b[0;32m     21\u001b[0m     \u001b[0mplt\u001b[0m\u001b[1;33m.\u001b[0m\u001b[0mxlim\u001b[0m\u001b[1;33m(\u001b[0m\u001b[1;36m0\u001b[0m\u001b[1;33m,\u001b[0m \u001b[0mT\u001b[0m\u001b[1;33m)\u001b[0m\u001b[1;33m\u001b[0m\u001b[1;33m\u001b[0m\u001b[0m\n\u001b[0;32m     22\u001b[0m     \u001b[0mplt\u001b[0m\u001b[1;33m.\u001b[0m\u001b[0mylim\u001b[0m\u001b[1;33m(\u001b[0m\u001b[1;33m-\u001b[0m\u001b[1;36m0.5\u001b[0m\u001b[1;33m,\u001b[0m \u001b[0mlen\u001b[0m\u001b[1;33m(\u001b[0m\u001b[0mspike_trains\u001b[0m\u001b[1;33m)\u001b[0m \u001b[1;33m-\u001b[0m \u001b[1;36m0.5\u001b[0m\u001b[1;33m)\u001b[0m\u001b[1;33m\u001b[0m\u001b[1;33m\u001b[0m\u001b[0m\n",
      "\u001b[1;32m~\\Miniconda3\\lib\\site-packages\\matplotlib\\pyplot.py\u001b[0m in \u001b[0;36meventplot\u001b[1;34m(positions, orientation, lineoffsets, linelengths, linewidths, colors, linestyles, data, **kwargs)\u001b[0m\n\u001b[0;32m   2535\u001b[0m         \u001b[0mlinelengths\u001b[0m\u001b[1;33m=\u001b[0m\u001b[0mlinelengths\u001b[0m\u001b[1;33m,\u001b[0m \u001b[0mlinewidths\u001b[0m\u001b[1;33m=\u001b[0m\u001b[0mlinewidths\u001b[0m\u001b[1;33m,\u001b[0m \u001b[0mcolors\u001b[0m\u001b[1;33m=\u001b[0m\u001b[0mcolors\u001b[0m\u001b[1;33m,\u001b[0m\u001b[1;33m\u001b[0m\u001b[1;33m\u001b[0m\u001b[0m\n\u001b[0;32m   2536\u001b[0m         \u001b[0mlinestyles\u001b[0m\u001b[1;33m=\u001b[0m\u001b[0mlinestyles\u001b[0m\u001b[1;33m,\u001b[0m\u001b[1;33m\u001b[0m\u001b[1;33m\u001b[0m\u001b[0m\n\u001b[1;32m-> 2537\u001b[1;33m         **({\"data\": data} if data is not None else {}), **kwargs)\n\u001b[0m\u001b[0;32m   2538\u001b[0m \u001b[1;33m\u001b[0m\u001b[0m\n\u001b[0;32m   2539\u001b[0m \u001b[1;33m\u001b[0m\u001b[0m\n",
      "\u001b[1;32m~\\Miniconda3\\lib\\site-packages\\matplotlib\\__init__.py\u001b[0m in \u001b[0;36minner\u001b[1;34m(ax, data, *args, **kwargs)\u001b[0m\n\u001b[0;32m   1412\u001b[0m     \u001b[1;32mdef\u001b[0m \u001b[0minner\u001b[0m\u001b[1;33m(\u001b[0m\u001b[0max\u001b[0m\u001b[1;33m,\u001b[0m \u001b[1;33m*\u001b[0m\u001b[0margs\u001b[0m\u001b[1;33m,\u001b[0m \u001b[0mdata\u001b[0m\u001b[1;33m=\u001b[0m\u001b[1;32mNone\u001b[0m\u001b[1;33m,\u001b[0m \u001b[1;33m**\u001b[0m\u001b[0mkwargs\u001b[0m\u001b[1;33m)\u001b[0m\u001b[1;33m:\u001b[0m\u001b[1;33m\u001b[0m\u001b[1;33m\u001b[0m\u001b[0m\n\u001b[0;32m   1413\u001b[0m         \u001b[1;32mif\u001b[0m \u001b[0mdata\u001b[0m \u001b[1;32mis\u001b[0m \u001b[1;32mNone\u001b[0m\u001b[1;33m:\u001b[0m\u001b[1;33m\u001b[0m\u001b[1;33m\u001b[0m\u001b[0m\n\u001b[1;32m-> 1414\u001b[1;33m             \u001b[1;32mreturn\u001b[0m \u001b[0mfunc\u001b[0m\u001b[1;33m(\u001b[0m\u001b[0max\u001b[0m\u001b[1;33m,\u001b[0m \u001b[1;33m*\u001b[0m\u001b[0mmap\u001b[0m\u001b[1;33m(\u001b[0m\u001b[0msanitize_sequence\u001b[0m\u001b[1;33m,\u001b[0m \u001b[0margs\u001b[0m\u001b[1;33m)\u001b[0m\u001b[1;33m,\u001b[0m \u001b[1;33m**\u001b[0m\u001b[0mkwargs\u001b[0m\u001b[1;33m)\u001b[0m\u001b[1;33m\u001b[0m\u001b[1;33m\u001b[0m\u001b[0m\n\u001b[0m\u001b[0;32m   1415\u001b[0m \u001b[1;33m\u001b[0m\u001b[0m\n\u001b[0;32m   1416\u001b[0m         \u001b[0mbound\u001b[0m \u001b[1;33m=\u001b[0m \u001b[0mnew_sig\u001b[0m\u001b[1;33m.\u001b[0m\u001b[0mbind\u001b[0m\u001b[1;33m(\u001b[0m\u001b[0max\u001b[0m\u001b[1;33m,\u001b[0m \u001b[1;33m*\u001b[0m\u001b[0margs\u001b[0m\u001b[1;33m,\u001b[0m \u001b[1;33m**\u001b[0m\u001b[0mkwargs\u001b[0m\u001b[1;33m)\u001b[0m\u001b[1;33m\u001b[0m\u001b[1;33m\u001b[0m\u001b[0m\n",
      "\u001b[1;32m~\\Miniconda3\\lib\\site-packages\\matplotlib\\axes\\_axes.py\u001b[0m in \u001b[0;36meventplot\u001b[1;34m(self, positions, orientation, lineoffsets, linelengths, linewidths, colors, linestyles, **kwargs)\u001b[0m\n\u001b[0;32m   1358\u001b[0m                                          \u001b[0mlinewidth\u001b[0m\u001b[1;33m=\u001b[0m\u001b[0mlinewidth\u001b[0m\u001b[1;33m,\u001b[0m\u001b[1;33m\u001b[0m\u001b[1;33m\u001b[0m\u001b[0m\n\u001b[0;32m   1359\u001b[0m                                          \u001b[0mcolor\u001b[0m\u001b[1;33m=\u001b[0m\u001b[0mcolor\u001b[0m\u001b[1;33m,\u001b[0m\u001b[1;33m\u001b[0m\u001b[1;33m\u001b[0m\u001b[0m\n\u001b[1;32m-> 1360\u001b[1;33m                                          linestyle=linestyle)\n\u001b[0m\u001b[0;32m   1361\u001b[0m             \u001b[0mself\u001b[0m\u001b[1;33m.\u001b[0m\u001b[0madd_collection\u001b[0m\u001b[1;33m(\u001b[0m\u001b[0mcoll\u001b[0m\u001b[1;33m,\u001b[0m \u001b[0mautolim\u001b[0m\u001b[1;33m=\u001b[0m\u001b[1;32mFalse\u001b[0m\u001b[1;33m)\u001b[0m\u001b[1;33m\u001b[0m\u001b[1;33m\u001b[0m\u001b[0m\n\u001b[0;32m   1362\u001b[0m             \u001b[0mcoll\u001b[0m\u001b[1;33m.\u001b[0m\u001b[0mupdate\u001b[0m\u001b[1;33m(\u001b[0m\u001b[0mkwargs\u001b[0m\u001b[1;33m)\u001b[0m\u001b[1;33m\u001b[0m\u001b[1;33m\u001b[0m\u001b[0m\n",
      "\u001b[1;32m~\\Miniconda3\\lib\\site-packages\\matplotlib\\collections.py\u001b[0m in \u001b[0;36m__init__\u001b[1;34m(self, positions, orientation, lineoffset, linelength, linewidth, color, linestyle, antialiased, **kwargs)\u001b[0m\n\u001b[0;32m   1583\u001b[0m         \u001b[0mself\u001b[0m\u001b[1;33m.\u001b[0m\u001b[0m_lineoffset\u001b[0m \u001b[1;33m=\u001b[0m \u001b[0mlineoffset\u001b[0m\u001b[1;33m\u001b[0m\u001b[1;33m\u001b[0m\u001b[0m\n\u001b[0;32m   1584\u001b[0m         \u001b[0mself\u001b[0m\u001b[1;33m.\u001b[0m\u001b[0mset_orientation\u001b[0m\u001b[1;33m(\u001b[0m\u001b[0morientation\u001b[0m\u001b[1;33m)\u001b[0m\u001b[1;33m\u001b[0m\u001b[1;33m\u001b[0m\u001b[0m\n\u001b[1;32m-> 1585\u001b[1;33m         \u001b[0mself\u001b[0m\u001b[1;33m.\u001b[0m\u001b[0mset_positions\u001b[0m\u001b[1;33m(\u001b[0m\u001b[0mpositions\u001b[0m\u001b[1;33m)\u001b[0m\u001b[1;33m\u001b[0m\u001b[1;33m\u001b[0m\u001b[0m\n\u001b[0m\u001b[0;32m   1586\u001b[0m \u001b[1;33m\u001b[0m\u001b[0m\n\u001b[0;32m   1587\u001b[0m     \u001b[1;32mdef\u001b[0m \u001b[0mget_positions\u001b[0m\u001b[1;33m(\u001b[0m\u001b[0mself\u001b[0m\u001b[1;33m)\u001b[0m\u001b[1;33m:\u001b[0m\u001b[1;33m\u001b[0m\u001b[1;33m\u001b[0m\u001b[0m\n",
      "\u001b[1;32m~\\Miniconda3\\lib\\site-packages\\matplotlib\\collections.py\u001b[0m in \u001b[0;36mset_positions\u001b[1;34m(self, positions)\u001b[0m\n\u001b[0;32m   1597\u001b[0m             \u001b[0mpositions\u001b[0m \u001b[1;33m=\u001b[0m \u001b[1;33m[\u001b[0m\u001b[1;33m]\u001b[0m\u001b[1;33m\u001b[0m\u001b[1;33m\u001b[0m\u001b[0m\n\u001b[0;32m   1598\u001b[0m         \u001b[1;32mif\u001b[0m \u001b[0mnp\u001b[0m\u001b[1;33m.\u001b[0m\u001b[0mndim\u001b[0m\u001b[1;33m(\u001b[0m\u001b[0mpositions\u001b[0m\u001b[1;33m)\u001b[0m \u001b[1;33m!=\u001b[0m \u001b[1;36m1\u001b[0m\u001b[1;33m:\u001b[0m\u001b[1;33m\u001b[0m\u001b[1;33m\u001b[0m\u001b[0m\n\u001b[1;32m-> 1599\u001b[1;33m             \u001b[1;32mraise\u001b[0m \u001b[0mValueError\u001b[0m\u001b[1;33m(\u001b[0m\u001b[1;34m'positions must be one-dimensional'\u001b[0m\u001b[1;33m)\u001b[0m\u001b[1;33m\u001b[0m\u001b[1;33m\u001b[0m\u001b[0m\n\u001b[0m\u001b[0;32m   1600\u001b[0m         \u001b[0mlineoffset\u001b[0m \u001b[1;33m=\u001b[0m \u001b[0mself\u001b[0m\u001b[1;33m.\u001b[0m\u001b[0mget_lineoffset\u001b[0m\u001b[1;33m(\u001b[0m\u001b[1;33m)\u001b[0m\u001b[1;33m\u001b[0m\u001b[1;33m\u001b[0m\u001b[0m\n\u001b[0;32m   1601\u001b[0m         \u001b[0mlinelength\u001b[0m \u001b[1;33m=\u001b[0m \u001b[0mself\u001b[0m\u001b[1;33m.\u001b[0m\u001b[0mget_linelength\u001b[0m\u001b[1;33m(\u001b[0m\u001b[1;33m)\u001b[0m\u001b[1;33m\u001b[0m\u001b[1;33m\u001b[0m\u001b[0m\n",
      "\u001b[1;31mValueError\u001b[0m: positions must be one-dimensional"
     ]
    },
    {
     "data": {
      "image/png": "[encoded data removed]",
      "text/plain": [
       "<Figure size 640x480 with 1 Axes>"
      ]
     },
     "metadata": {},
     "output_type": "display_data"
    }
   ],
   "source": [
    "#  Simulation & model parameters \n",
    "dt       = 1e-3       # simulation time step [s]\n",
    "tau_m    = 20e-3      # membrane time constant [s]\n",
    "v_rest   = -0.070     # resting potential [V]\n",
    "v_reset  = -0.060     # reset potential [V]\n",
    "v_th     = -0.054     # spike threshold [V]\n",
    "tau_ex   = 5e-3       # excitatory synaptic decay [s]\n",
    "tau_in   = 5e-3       # inhibitory synaptic decay [s]\n",
    "\n",
    "g_max    = 0.5     # max excitatory weight (dimensionless w.r.t. leak conductance)\n",
    "g_in     = 0.05       # fixed inhibitory weight per spike\n",
    "\n",
    "# STDP constants\n",
    "tau_plus  = 20e-3\n",
    "tau_minus = 20e-3\n",
    "A_plus    = 0.005     # fraction of g_max added per causal pair\n",
    "A_minus   = 1.05*A_plus\n",
    "\n",
    "# experiment\n",
    "latency_spikes = np.array([[0.005],\n",
    "                           [0.010], \n",
    "                           [0.015], \n",
    "                           [0.020], \n",
    "                           [0.025]])               \n",
    "T            = 0.050                               # 50 ms cycle\n",
    "cycles       = 10\n",
    "N_exc        = 5\n",
    "\n",
    "e_ex = 0.0\n",
    "e_in = -0.070\n",
    "\n",
    "\n",
    "\n",
    "def run_simple(exc_spike_trains, g, T):\n",
    "    \"\"\"Simulate the LIF neuron for T seconds.\n",
    "    exc_spike_trains – list of numpy arrays with spike times for each excitatory synapse.\n",
    "    Returns (postsynaptic spike times, final weights list).\"\"\"\n",
    "    # tau_m*dV/dt = V_rest – V + g_ex (t)(E_ex – V) + g_in (t)(E_in – V)\n",
    "    steps_per_T = T/dt\n",
    "    \n",
    "    postsyn_spk_times = []\n",
    "    final_weights = []\n",
    "    v = v_rest # initial V\n",
    "    # all conductances 0 for now\n",
    "    g_ex = 0\n",
    "    # g_a = np.zeros(N_exc) # of size len(exc_spike_trains), might be in g I guess\n",
    "    P = np.zeros(N_exc)\n",
    "    M = 0.0\n",
    "    \n",
    "    for step in range(int(steps_per_T)):\n",
    "        t = step*dt\n",
    "        for a, spks in enumerate(exc_spike_trains):\n",
    "            # all spikes for a synapse a that happened in the last timestep\n",
    "            if spks[0] <= t and spks.size: # they need to be ordered and not None\n",
    "                g_ex += g[a]\n",
    "                P[a] += A_plus # update ltp trace\n",
    "                g[a] = max(g[a] + M * g_max, 0.0)\n",
    "                np.delete(exc_spike_trains, 0)\n",
    "                \n",
    "        # decay conductances\n",
    "        g_ex -= (dt / tau_ex)\n",
    "        \n",
    "        # decay pre/posttraces. we just decay it already and then it is useful once the future spike actually occurs\n",
    "        M -= M / tau_minus * dt\n",
    "        P -= P / tau_plus * dt\n",
    "        \n",
    "        # update membrane potential\n",
    "        # at each timestep, calculate V:\n",
    "        v = v + dt/tau_m * (v_rest - v + g_ex * (e_ex - v) + g_in * (e_in - v))\n",
    "        # pascal version: v + (v_rest - v - g_ex * v) / tau_m * dt # E_inh = V_rest\n",
    "        \n",
    "        # check if we spike\n",
    "        if v >= v_th:\n",
    "            v = v_reset\n",
    "            post_spike_history.append(t)\n",
    "            M -= A_minus\n",
    "            g += P*g_max\n",
    "            np.minimum(g, g_max, out=g)\n",
    "    \n",
    "        # notes\n",
    "        # g_ex is the sum of all the g_a s (collects all the contributions, running sum of all conductances)\n",
    "        # g_ex also continuously decays due to the closing of the channels \n",
    "        # g_a is the weight of each synapse a\n",
    "        \n",
    "    return np.array(post_spike_history, dtype=object), g\n",
    "\n",
    "        \n",
    "# run_simple cycles times:\n",
    "# -- run the experiment --\n",
    "g = np.full(N_exc, 0.1 * g_max) # small initial weights\n",
    "g_history = [g.copy()] # collect weights\n",
    "post_spike_history = [] # collect output times\n",
    "for cycle in range(cycles):\n",
    "    post_spikes, g = run_simple(latency_spikes, g, T) # TODO update latency spikes correctly\n",
    "    post_spike_history.append(post_spikes)\n",
    "    g_history.append(g)   \n",
    "    \n",
    "print(len(post_spike_history[2]))\n",
    "plot_spikes(post_spike_history, T)"
   ]
  },
  {
   "cell_type": "markdown",
   "id": "38a88b27-2dd5-4fe1-afb4-945013af6c1c",
   "metadata": {},
   "source": [
    "## Task 2:\n",
    "We are now going to implement the simulation experiment over different input rates.\n",
    "\n",
    "1. Draw Poisson spikes (feel free to plot to check)\n",
    "2. Update your simulation to include inhibitionas well as excitation. The simulation should start with all weights set to g_max.\n",
    "3. Run your simulation for 1s and report the final STDP adapted weights. "
   ]
  },
  {
   "cell_type": "code",
   "execution_count": null,
   "id": "56a01544",
   "metadata": {},
   "outputs": [],
   "source": [
    "g_max    = 0.15      # max excitatory weight (dimensionless w.r.t. leak conductance)\n",
    "g_in     = 0.5        # fixed inhibitory weight per spike\n",
    "\n",
    "\n",
    "# Network size\n",
    "N_exc  = 250          # number of excitatory synapses (reduced for speed)\n",
    "N_inh  = 75           # number of inhibitory synapses\n",
    "\n",
    "# these are adapted by pascal due to computational cost and such"
   ]
  },
  {
   "cell_type": "code",
   "execution_count": null,
   "id": "90daa6d9",
   "metadata": {},
   "outputs": [],
   "source": [
    "def poisson_spike_times(rate, T, rng=rng):\n",
    "    n_spikes = rng.poisson(rate * T) # the rate is in hertz\n",
    "    return np.sort(rng.random(n_spikes * T) # poission is uniformly distributed. sort to get the spikes in order\n",
    "\n",
    "def run_sim(exc_spike_trains, inh_spike_trains, T, g_multiple = 1.0):\n",
    "    \"\"\"Simulate the LIF neuron for T seconds.\n",
    "    exc_spike_trains – list of numpy arrays with spike times for each excitatory synapse.\n",
    "    inh_spike_trains – list of numpy arrays with spike times for each excitatory synapse..\n",
    "    Returns (postsynaptic spike times, final weights list).\"\"\"\n",
    "    pass\n",
    "                   # use while loops to go over all spikes (for exc. and inh. spike trains respectively)\n",
    "                   # delete processed spikes (spks = spks[1:])\n",
    "                   \n",
    "                   # after the loops, decay conductances, pre/post traces, update membrane potential, etc like above\n",
    "                   "
   ]
  },
  {
   "cell_type": "code",
   "execution_count": null,
   "id": "ef30c56e",
   "metadata": {},
   "outputs": [],
   "source": [
    "# Parameters of this expeirment.\n",
    "T_sim   = 200.0     # seconds per experiment (increase for better convergence)\n",
    "rates   = [10, 20, 40]  # Hz\n",
    "inh_rate = 10      # Hz per inhibitory synapse\n",
    "\n",
    "all_results = {}\n",
    "# get poisson exc_trains and inh_trains\n",
    "# get post_spk and w_final from run_sim\n",
    "# all_results[rate] = {post_spk, w_final}\n",
    "\n",
    "pass"
   ]
  },
  {
   "cell_type": "markdown",
   "id": "0e4a2353",
   "metadata": {},
   "source": [
    "\n",
    "## 5 · Task 4 – Rate coding\n",
    "\n",
    "We will now check what happens if the rate of different inpout neurons is informative. Your first 50 input neurons are going to fire at 40Hz (Poisson), whereas remaining 200 inp\n",
    "\n",
    "now split the 250 excitatory afferents into two groups:\n",
    "\n",
    "* **50 “high‑rate” inputs** – Poisson at 40 Hz  \n",
    "* **200 “low‑rate” inputs** – Poisson at 5 Hz  \n",
    "\n",
    "All other parameters remain the same.  \n",
    "After running STDP for 10 s, inspect the weight distributions of the two groups.\n"
   ]
  },
  {
   "cell_type": "code",
   "execution_count": null,
   "id": "bfbaa781",
   "metadata": {},
   "outputs": [],
   "source": [
    "# --- Rate‑code experiment ---\n",
    "T_sim      = 1000.0\n",
    "high_rate  = 40   # Hz\n",
    "low_rate   = 5    # Hz\n",
    "n_high     = 50\n",
    "n_low      = N_exc - n_high\n",
    "\n",
    "# exc_trains = ([highrate poisson thing] + [lowrate poisson thing])\n",
    "# intended finding: mean stays, but low has bunch of outliers \n",
    "# high rate stuff gets whole lot of ltd. poisson has no temp. structure\n",
    "# play around with parameters \n",
    "\n",
    "pass"
   ]
  }
 ],
 "metadata": {
  "kernelspec": {
   "display_name": "Python 3 (ipykernel)",
   "language": "python",
   "name": "python3"
  },
  "language_info": {
   "codemirror_mode": {
    "name": "ipython",
    "version": 3
   },
   "file_extension": ".py",
   "mimetype": "text/x-python",
   "name": "python",
   "nbconvert_exporter": "python",
   "pygments_lexer": "ipython3",
   "version": "3.7.1"
  }
 },
 "nbformat": 4,
 "nbformat_minor": 5
}
